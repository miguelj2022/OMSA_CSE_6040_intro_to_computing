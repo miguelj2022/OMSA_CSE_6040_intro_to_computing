{
  "nbformat": 4,
  "nbformat_minor": 0,
  "metadata": {
    "colab": {
      "provenance": [],
      "authorship_tag": "ABX9TyNjGb+GtuO9oHoa5ecTGee7",
      "include_colab_link": true
    },
    "kernelspec": {
      "name": "python3",
      "display_name": "Python 3"
    },
    "language_info": {
      "name": "python"
    }
  },
  "cells": [
    {
      "cell_type": "markdown",
      "metadata": {
        "id": "view-in-github",
        "colab_type": "text"
      },
      "source": [
        "<a href=\"https://colab.research.google.com/github/miguelj2022/OMSA_CSE_6040_intro_to_computing/blob/main/A_Banker's_plan_codewars.ipynb\" target=\"_parent\"><img src=\"https://colab.research.google.com/assets/colab-badge.svg\" alt=\"Open In Colab\"/></a>"
      ]
    },
    {
      "cell_type": "code",
      "execution_count": null,
      "metadata": {
        "id": "MW0GotHAQZHH"
      },
      "outputs": [],
      "source": []
    },
    {
      "cell_type": "markdown",
      "source": [
        "# A Banker's Plan"
      ],
      "metadata": {
        "id": "yh9cesmQQ7d1"
      }
    },
    {
      "cell_type": "markdown",
      "source": [
        "**Description:**\n",
        "\n",
        "John has some amount of money of which he wants to deposit a part f0 to the bank at the beginning of year 1. He wants to withdraw each year for his living an amount c0.\n",
        "\n",
        "Here is his banker plan:\n",
        "\n",
        "- deposit f0 at beginning of year 1\n",
        "\n",
        "- his bank account has an interest rate of p percent per year, constant over the years\n",
        "\n",
        "- John can withdraw each year c0, taking it whenever he wants in the year; he must take account of an inflation of i percent per year in order to keep his quality of living. i is supposed to stay constant over the years.\n",
        "\n",
        "- all amounts f0..fn-1, c0..cn-1 are truncated by the bank to their integral part\n",
        "\n",
        "- Given f0, p, c0, i the banker guarantees that John will be able to go on that way until the nth year."
      ],
      "metadata": {
        "id": "PrrBHyjV0QHl"
      }
    },
    {
      "cell_type": "markdown",
      "source": [
        "**Example:**\n",
        "\n",
        "```\n",
        "f0 = 100000, p = 1 percent, c0 = 2000, n = 15, i = 1 percent\n",
        "\n",
        "beginning of year 2 -> f1 = 100000 + 0.01*100000 - 2000 = 99000;  c1 = c0 + c0*0.01 = 2020 (with inflation of previous year)\n",
        "\n",
        "beginning of year 3 -> f2 =  99000 + 0.01*99000 - 2020  = 97970;  c2 = c1 + c1*0.01 = 2040.20\n",
        "(with inflation of previous year, truncated to 2040)\n",
        "\n",
        "beginning of year 4 -> f3 =  97970 + 0.01*97970 - 2040  = 96909.7 (truncated to 96909);\n",
        "c3 = c2 + c2*0.01 = 2060.4 (with inflation of previous year, truncated to 2060)\n",
        "```\n",
        "\n",
        "\n"
      ],
      "metadata": {
        "id": "wsyW_o_T0oLh"
      }
    },
    {
      "cell_type": "markdown",
      "source": [
        "and so on...\n",
        "\n",
        "John wants to know if the banker's plan is right or wrong. Given parameters f0, p, c0, n, i build a function fortune which returns true if John can make a living until the nth year and false if it is not possible."
      ],
      "metadata": {
        "id": "ob42c1_E05H_"
      }
    },
    {
      "cell_type": "markdown",
      "source": [
        "**Some cases:**\n",
        "\n",
        "```\n",
        "fortune(100000, 1, 2000, 15, 1) -> True\n",
        "fortune(100000, 1, 10000, 10, 1) -> True\n",
        "fortune(100000, 1, 9185, 12, 1) -> False\n",
        "\n",
        "For the last case you can find below the amounts of his account at the beginning of each year:\n",
        "100000, 91815, 83457, 74923, 66211, 57318, 48241, 38977, 29523, 19877, 10035, -5\n",
        "```\n",
        "```\n",
        "f11 = -5 so he has no way to withdraw something for his living in year 12.\n",
        "```\n",
        "\n",
        "**Note:**\n",
        "Don't forget to convert the percent parameters as percentages in the body of your function: if a parameter percent is 2 you have to convert it to 0.02.\n",
        "\n",
        "\n",
        "\n"
      ],
      "metadata": {
        "id": "IKaZOxxm06n2"
      }
    },
    {
      "cell_type": "code",
      "source": [
        "def fortune(f0, p, c0, n, i):\n",
        "    # Convert percentages to decimals\n",
        "    p = p / 100\n",
        "    i = i / 100\n",
        "\n",
        "    for year in range(1, n):\n",
        "        # Calculate interest and deduct living costs\n",
        "        f0 = int(f0 + f0 * p - c0)\n",
        "\n",
        "        if f0 < 0:\n",
        "            return False  # John can't make it to the nth year\n",
        "\n",
        "        # Update the cost of living for the next year\n",
        "        c0 = int(c0 + c0 * i)\n",
        "\n",
        "    return True  # John can make it to the nth year\n",
        "\n",
        "# Test cases\n",
        "print(fortune(100000, 1, 2000, 15, 1))  # True\n",
        "print(fortune(100000, 1, 10000, 10, 1))  # True\n",
        "print(fortune(100000, 1, 9185, 12, 1))  # False\n"
      ],
      "metadata": {
        "colab": {
          "base_uri": "https://localhost:8080/"
        },
        "id": "gLfTRYmV1WzN",
        "outputId": "d49f06b6-a469-49d3-bf23-363a590cc678"
      },
      "execution_count": 1,
      "outputs": [
        {
          "output_type": "stream",
          "name": "stdout",
          "text": [
            "True\n",
            "True\n",
            "False\n"
          ]
        }
      ]
    },
    {
      "cell_type": "markdown",
      "source": [
        "**Explanation:**\n",
        "\n",
        "**1.** Percentages Conversion: The interest rate p and inflation i are divided by 100 to use them as decimals.\n",
        "\n",
        "**2.**Yearly Update:\n",
        " - Interest is added to the remaining amount f0.\n",
        " - Living costs c0 are subtracted.\n",
        " - Both amounts are truncated to their integer parts using int().\n",
        "\n",
        "**3.** Check Funds: If f0 becomes negative during any year, return False.\n",
        "\n",
        "**4.** Inflation Update: Living costs c0 are updated for the next year based on inflation.\n",
        "\n",
        "**Final Check:** If John has enough funds through the nth year, return True."
      ],
      "metadata": {
        "id": "JLThYP191sbp"
      }
    },
    {
      "cell_type": "code",
      "source": [],
      "metadata": {
        "id": "QW2aFwHF0PaA"
      },
      "execution_count": null,
      "outputs": []
    }
  ]
}